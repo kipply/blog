{
 "cells": [
  {
   "cell_type": "code",
   "execution_count": 17,
   "metadata": {},
   "outputs": [],
   "source": [
    "source = \"\"\"<div style=\"background-image:url(/static/layout/tt_grad.jpg); height:36px; width:261px; position:relative; padding:3px\">\n",
    "<div style=\"color:#731d08; font-weight:bold; font-size:11px;\">Unnamed</div>\n",
    "<div style=\"color:#731d08; font-size:10px; margin-top:3px; color:#000;\">Coatl Male</div>\n",
    "<div style=\"position:absolute; right:6px; top:6px; font-size:11px; font-weight:bold;\"> Lvl 1</div>\n",
    "</div>\n",
    "<div style=\"color:#000; font-size:10px; margin-top:3px;\">\n",
    "<div><span style=\"font-weight: bold;\">ID#:</span> 54162005</div>\n",
    "<div><span style=\"font-weight: bold;\">Age:</span> 1 year</div>\n",
    "<div><span style=\"font-weight:bold;\">Parents:</span> Cleitus, Stotranna</div>\n",
    "<div><span style=\"font-weight:bold;\">Primary Gene:</span> Caribbean Metallic</div>\n",
    "<div><span style=\"font-weight:bold;\">Secondary Gene:</span> Caribbean Constellation</div>\n",
    "<div><span style=\"font-weight:bold;\">Tertiary Gene:</span> Caribbean Opal</div>\n",
    "<div><span style=\"font-weight:bold;\">Eye Type:</span> Lightning Common</div>\n",
    "<div><span style=\"font-weight:bold;\">Diet:</span> Seafood</div>\n",
    "</div>\n",
    "<div style=\"color:#999; font-size:10px; font-weight:bold;\">[Click to see details about this dragon.]</div>\"\"\""
   ]
  },
  {
   "cell_type": "code",
   "execution_count": 39,
   "metadata": {},
   "outputs": [
    {
     "name": "stdout",
     "output_type": "stream",
     "text": [
      "Caribbean\n",
      "Metallic\n",
      "Constellation\n",
      "Opal\n",
      "Lightning\n",
      "Common\n",
      "54162005\n",
      "541621\n"
     ]
    }
   ],
   "source": [
    "import re\n",
    "import math\n",
    "colour_re = re.compile(r\"Primary Gene:</span> (.+)</div>\", re.MULTILINE)\n",
    "secondary_re = re.compile(r\"Secondary Gene:</span> (.+)</div>\", re.MULTILINE)\n",
    "tertiary_re = re.compile(r\"Tertiary Gene:</span> (.+)</div>\", re.MULTILINE)\n",
    "eye_re = re.compile(r\"Eye Type:</span> (.+)</div>\", re.MULTILINE)\n",
    "id_re = re.compile(r\"ID#:</span> (.+)</div>\", re.MULTILINE)\n",
    "gender_re = re.compile(r\" color:#000;\\\"\\>(.+)</div>\", re.MULTILINE)\n",
    "colour = colour_re.search(source).group(1).split()[0]\n",
    "primary = colour_re.search(source).group(1).split()[1]\n",
    "secondary = secondary_re.search(source).group(1).split()[1]\n",
    "tertiary = tertiary_re.search(source).group(1).split()[1]\n",
    "element = eye_re.search(source).group(1).split()[0]\n",
    "eyes = eye_re.search(source).group(1).split()[1]\n",
    "id_num = id_re.search(source).group(1).split()[0]\n",
    "id_num_rounded = str(int(math.ceil((int(id_num) + 1) / 100.0)))\n",
    "print(colour)\n",
    "print(primary)\n",
    "print(secondary)\n",
    "print(tertiary)\n",
    "print(element)\n",
    "print(eyes)\n",
    "print(id_num)\n",
    "print(id_num_rounded)\n"
   ]
  },
  {
   "cell_type": "code",
   "execution_count": null,
   "metadata": {},
   "outputs": [],
   "source": []
  }
 ],
 "metadata": {
  "kernelspec": {
   "display_name": "Python 3",
   "language": "python",
   "name": "python3"
  },
  "language_info": {
   "codemirror_mode": {
    "name": "ipython",
    "version": 3
   },
   "file_extension": ".py",
   "mimetype": "text/x-python",
   "name": "python",
   "nbconvert_exporter": "python",
   "pygments_lexer": "ipython3",
   "version": "3.8.6"
  }
 },
 "nbformat": 4,
 "nbformat_minor": 4
}
